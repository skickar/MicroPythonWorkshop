{
 "cells": [
  {
   "cell_type": "code",
   "execution_count": 3,
   "metadata": {},
   "outputs": [
    {
     "name": "stdout",
     "output_type": "stream",
     "text": [
      "\u001b[34mConnecting to --port=/dev/cu.wchusbserial14640 --baud=115200 \u001b[0m\n",
      "\u001b[34mReady.\n",
      "\u001b[0m"
     ]
    }
   ],
   "source": [
    "%serialconnect to --port=/dev/cu.wchusbserial14640 --baud=115200\n",
    "\n",
    "## Code to detect changes in an LDR's brightness and output on LED's connected to pins D1 and D2"
   ]
  },
  {
   "cell_type": "code",
   "execution_count": null,
   "metadata": {},
   "outputs": [
    {
     "name": "stdout",
     "output_type": "stream",
     "text": [
      ".............................."
     ]
    }
   ],
   "source": [
    "from machine import ADC; from time import sleep\n",
    "\n",
    "## Import the libraries we need, ADC, Machine, and Time\n",
    "\n",
    "pastValue = 0; sensitivity = 50; adc = ADC(0); sleepTime = .5\n",
    "\n",
    "## We set our variables, sensitivity to 50, and set our analog pin input. We also set the length of our delays.\n",
    "\n",
    "blue = machine.Pin(4, machine.Pin.OUT)\n",
    "red = machine.Pin(5, machine.Pin.OUT)\n",
    "\n",
    "## Set our blue LED on pin 4 (D2) and our red LED to pin 5 (d1)\n",
    "\n",
    "def blinkBlue():\n",
    "    blue.on(), sleep(sleepTime), blue.off(), sleep(sleepTime)\n",
    "    \n",
    "def blinkRed():\n",
    "    red.on(), sleep(sleepTime), red.off(), sleep(sleepTime)\n",
    "\n",
    "## Define our red and blue blinking function\n",
    "    \n",
    "while True:\n",
    "    currentValue = adc.read()\n",
    "    blinkBlue() if (currentValue - pastValue > sensitivity) else blinkRed() if (currentValue - pastValue < -sensitivity) else sleep(sleepTime)\n",
    "    pastValue = currentValue\n",
    "    \n",
    "## Run our main While loop to check for changes in brightness"
   ]
  },
  {
   "cell_type": "code",
   "execution_count": null,
   "metadata": {},
   "outputs": [],
   "source": []
  }
 ],
 "metadata": {
  "kernelspec": {
   "display_name": "MicroPython - USB",
   "language": "micropython",
   "name": "micropython"
  },
  "language_info": {
   "codemirror_mode": "python",
   "file_extension": ".py",
   "mimetype": "text/python",
   "name": "micropython"
  }
 },
 "nbformat": 4,
 "nbformat_minor": 2
}
