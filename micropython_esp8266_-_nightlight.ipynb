{
 "cells": [
  {
   "cell_type": "code",
   "execution_count": null,
   "metadata": {},
   "outputs": [],
   "source": [
    "%serialconnect to /dev/ttyUSB0 -b 115200 # linux"
   ]
  },
  {
   "cell_type": "code",
   "execution_count": null,
   "metadata": {},
   "outputs": [],
   "source": [
    "# Import digital pin, pulse-width-modulation (PWM), and analog-to-digital converter\n",
    "from machine import Pin, PWM, ADC\n",
    "\n",
    "led = PWM(Pin(5)) # Initialize PWM Pin 5 (D1 on ESP8666)\n",
    "ldr = ADC(0) # Initialize analog input pin 0 (A0 on ESP8266)\n",
    "\n",
    "def nightlight(sensor_val: int) -> int:\n",
    "    \"\"\"reads photo resistor value and returns a PWM duty cycle of 0 to 1023\"\"\"\n",
    "\n",
    "    upper_bound = 900\n",
    "    lower_bound = 400\n",
    "    slope = 1023/(upper_bound - lower_bound)\n",
    "    intercept = -lower_bound*slope\n",
    "    rv = slope * sensor_val + intercept\n",
    "    if rv > 1023:\n",
    "        rv = 1023\n",
    "    if rv < 0:\n",
    "         rv = 0\n",
    "    return int(rv)\n",
    "\n",
    "while True:\n",
    "    led.duty(nightlight(ldr.read()))"
   ]
  },
  {
   "cell_type": "code",
   "execution_count": null,
   "metadata": {},
   "outputs": [],
   "source": []
  }
 ],
 "metadata": {
  "kernelspec": {
   "display_name": "MicroPython - USB",
   "language": "micropython",
   "name": "micropython"
  },
  "language_info": {
   "codemirror_mode": "python",
   "file_extension": ".py",
   "mimetype": "text/python",
   "name": "micropython"
  }
 },
 "nbformat": 4,
 "nbformat_minor": 2
}
