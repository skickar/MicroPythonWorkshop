{
 "cells": [
  {
   "cell_type": "code",
   "execution_count": null,
   "metadata": {},
   "outputs": [],
   "source": [
    "%serialconnect to --port=/dev/cu.wchusbserial14440 --baud=115200"
   ]
  },
  {
   "cell_type": "code",
   "execution_count": null,
   "metadata": {},
   "outputs": [],
   "source": [
    "from machine import Pin\n",
    "from time import sleep\n",
    "# define pin 0 as output\n",
    "laser = Pin(0, Pin.OUT)\n",
    "# define value of \"led\" as \"1\" or \"True\" to turn on the LED\n",
    "laser.value(1)\n",
    "sleep(0.2)\n",
    "# define value of \"led\" as \"0\" or \"False\" to turn off the LED\n",
    "laser.value(0)\n",
    "sleep(0.2)\n",
    "# also you can use .on() or .off methods to control the pin:\n",
    "laser.on()\n",
    "sleep(0.2)\n",
    "laser.off()\n",
    "sleep(0.2)"
   ]
  },
  {
   "cell_type": "code",
   "execution_count": null,
   "metadata": {},
   "outputs": [],
   "source": [
    "## Now, let's define a number of times for it to flash\n",
    "for i in range(100):\n",
    "    laser.on()\n",
    "    sleep(0.2)\n",
    "    laser.off()\n",
    "    sleep(0.5)"
   ]
  },
  {
   "cell_type": "code",
   "execution_count": null,
   "metadata": {},
   "outputs": [],
   "source": [
    "# Instead of flashing, let's try pulsing\n",
    "\n",
    "import time; from machine import Pin, PWM; list = [0]\n",
    "def PWMChange(pinNumber, intensity, delayTime): pwm2 = PWM(Pin(pinNumber), freq=20000, duty=intensity); time.sleep_ms(delayTime)\n",
    "def flashing():\n",
    "    for elements in list: PWMChange(elements, 0, 10)\n",
    "    for elements in list:\n",
    "        for i in range (0,255): PWMChange(elements, i, 10)\n",
    "        if i > 253:\n",
    "            for i in range(255, 0, -1): PWMChange(elements, i, 10)\n",
    "                \n",
    "while True: flashing();"
   ]
  }
 ],
 "metadata": {
  "kernelspec": {
   "display_name": "MicroPython - USB",
   "language": "micropython",
   "name": "micropython"
  },
  "language_info": {
   "codemirror_mode": "python",
   "file_extension": ".py",
   "mimetype": "text/python",
   "name": "micropython"
  }
 },
 "nbformat": 4,
 "nbformat_minor": 2
}
