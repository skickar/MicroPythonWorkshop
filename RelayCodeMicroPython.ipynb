{
 "cells": [
  {
   "cell_type": "code",
   "execution_count": null,
   "metadata": {},
   "outputs": [],
   "source": [
    "%serialconnect to --port=/dev/cu.wchusbserial14440 --baud=115200"
   ]
  },
  {
   "cell_type": "code",
   "execution_count": null,
   "metadata": {},
   "outputs": [],
   "source": [
    "from machine import Pin\n",
    "from time import sleep\n",
    "# define pin 0 as output\n",
    "relay = Pin(5, Pin.OUT)\n",
    "# define value of \"relay\" as \"1\" or \"True\" to turn on the relay\n",
    "relay.value(1)\n",
    "sleep(0.2)\n",
    "# define value of \"relay\" as \"0\" or \"False\" to turn off the relay\n",
    "relay.value(0)\n",
    "sleep(0.2)\n",
    "# also you can use .on() or .off methods to control the pin:\n",
    "relay.on()\n",
    "sleep(0.2)\n",
    "relay.off()\n",
    "sleep(0.2)"
   ]
  },
  {
   "cell_type": "code",
   "execution_count": null,
   "metadata": {},
   "outputs": [],
   "source": [
    "from machine import Pin\n",
    "from time import sleep\n",
    "\n",
    "relay = machine.Pin(5, machine.Pin.OUT)\n",
    "button = Pin(14, Pin.IN, Pin.PULL_UP)\n",
    "\n",
    "## Connecting pin D5 to Ground via the push button\n",
    "\n",
    "while True:\n",
    "\n",
    "    # The value function returns the current level of the pin,\n",
    "    # either 1 for a high logic level or 0 for a low logic level.\n",
    "    # Notice how the button is at a high level (value returns 1) when\n",
    "    # it's not pressed. This is because the pull-up resistor keeps the pin at\n",
    "    # a high level when it's not connected to ground through the button.\n",
    "    # When the button is pressed then the input pin connects to ground\n",
    "    # and reads a low level (value returns 0).\n",
    "    if not button.value():\n",
    "        # Remember that the internal led turn on\n",
    "        # when the pin is LOW\n",
    "        relay.on()\n",
    "    else:\n",
    "        relay.off()\n",
    "\n",
    "    sleep(.1)\n"
   ]
  },
  {
   "cell_type": "code",
   "execution_count": null,
   "metadata": {},
   "outputs": [],
   "source": []
  }
 ],
 "metadata": {
  "kernelspec": {
   "display_name": "MicroPython - USB",
   "language": "micropython",
   "name": "micropython"
  },
  "language_info": {
   "codemirror_mode": "python",
   "file_extension": ".py",
   "mimetype": "text/python",
   "name": "micropython"
  }
 },
 "nbformat": 4,
 "nbformat_minor": 2
}
